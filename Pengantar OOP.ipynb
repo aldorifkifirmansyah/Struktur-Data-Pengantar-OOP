{
 "cells": [
  {
   "cell_type": "markdown",
   "metadata": {},
   "source": [
    "# Class Object Constructor Method"
   ]
  },
  {
   "cell_type": "code",
   "execution_count": null,
   "metadata": {},
   "outputs": [],
   "source": [
    "class kendaraan: # ini class\n",
    "    # konstruktor\n",
    "    def __init__(self, merk, warna):\n",
    "        self.merk = merk\n",
    "        self.warna = warna\n",
    "    # method\n",
    "    def deskripsi(self):\n",
    "        return f\"kendaraan ini bermerk {self.merk} dan berwarna {self.warna}\"\n",
    "\n",
    "# objek dari class kendaraan\n",
    "mobil = kendaraan(\"Toyota\", \"Merah\")\n",
    "motor = kendaraan(\"Aprilia\", \"Hitam\")\n",
    "\n",
    "print(mobil.merk)\n",
    "print(motor.warna)\n",
    "print(mobil.deskripsi())\n",
    "print(motor.deskripsi())\n"
   ]
  },
  {
   "cell_type": "markdown",
   "metadata": {},
   "source": [
    "# Encapsuliation"
   ]
  },
  {
   "cell_type": "code",
   "execution_count": 2,
   "metadata": {},
   "outputs": [
    {
     "name": "stdout",
     "output_type": "stream",
     "text": [
      "Edo\n",
      "Dodo\n",
      "Deposit berhasil, saldo sekarang: 150000\n",
      "Penarikan berhasil, saldo sekarang: 120000\n"
     ]
    }
   ],
   "source": [
    "class akunBank:\n",
    "    def __init__(self, nama, saldo):\n",
    "        self.__nama = nama\n",
    "        self.__saldo = saldo\n",
    "\n",
    "    # getter untuk nama\n",
    "    def getNama(self):\n",
    "        return self.__nama\n",
    "\n",
    "    # setter untuk nama\n",
    "    def setNama(self, namaBaru):\n",
    "        self.__nama = namaBaru\n",
    "\n",
    "    # getter untuk saldo\n",
    "    def getSaldo(self):\n",
    "        return self.__saldo\n",
    "\n",
    "    # setter untuk saldo\n",
    "    def setSaldo(self, jumlah):\n",
    "        if jumlah < 0:\n",
    "            print(\"Saldo tidak boleh negatif!\")\n",
    "        else:\n",
    "            self.__saldo = jumlah\n",
    "\n",
    "    # method untuk menambah saldo\n",
    "    def deposit(self, jumlah):\n",
    "        if jumlah > 0:\n",
    "            self.__saldo += jumlah\n",
    "            print(f\"Deposit berhasil, saldo sekarang: {self.__saldo}\")\n",
    "        else:\n",
    "            print(\"Jumlah deposit tidak valid!\")\n",
    "\n",
    "    # method untuk penarikan saldo\n",
    "    def tarik(self, jumlah):\n",
    "        if 0 < jumlah <= self.__saldo:\n",
    "            self.__saldo -= jumlah\n",
    "            print(f\"Penarikan berhasil, saldo sekarang: {self.__saldo}\")\n",
    "        else:\n",
    "            print(\"Penarikan gagal, saldo tidak mencukupi!\")\n",
    "\n",
    "# objek akunBank\n",
    "akun1 = akunBank(\"Edo\", 100000)\n",
    "\n",
    "print(akun1.getNama())\n",
    "akun1.setNama(\"Dodo\")\n",
    "print(akun1.getNama())\n",
    "\n",
    "akun1.deposit(50000)\n",
    "akun1.tarik(30000)"
   ]
  },
  {
   "cell_type": "markdown",
   "metadata": {},
   "source": [
    "# Inheritance"
   ]
  },
  {
   "cell_type": "code",
   "execution_count": 4,
   "metadata": {},
   "outputs": [
    {
     "name": "stdout",
     "output_type": "stream",
     "text": [
      "Oyen adalah kucing jenis karnivora dan ras Persia\n",
      "Oyen mengeong\n",
      "Hitam adalah kucing jenis karnivora dan ras Anggora\n",
      "Hitam mengeong\n"
     ]
    }
   ],
   "source": [
    "class Hewan:  # ini superclass\n",
    "    def __init__(self, nama, jenis):\n",
    "        self.nama = nama\n",
    "        self.jenis = jenis\n",
    "\n",
    "    def deskripsi(self):\n",
    "        return f\"{self.nama} adalah {self.jenis}\"\n",
    "\n",
    "class Kucing(Hewan):  # subclass kucing inherit dari class hewan\n",
    "    def __init__(self, nama, jenis):\n",
    "        super().__init__(nama, jenis)  # memanggil konstruktor dari superclass\n",
    "\n",
    "    def suara(self):\n",
    "        return f\"{self.nama} mengeong\"\n",
    "\n",
    "    def deskripsi(self):\n",
    "        return f\"{self.nama} adalah kucing dan berjenis {self.jenis}\"\n",
    "\n",
    "# objek dari subclass kucing\n",
    "kucing1 = Kucing(\"Oyen\", \"karnivora\")\n",
    "kucing2 = Kucing(\"Hitam\", \"karnivora\")\n",
    "\n",
    "print(kucing1.deskripsi())\n",
    "print(kucing1.suara())\n",
    "print(kucing2.deskripsi())\n",
    "print(kucing2.suara())"
   ]
  },
  {
   "cell_type": "markdown",
   "metadata": {},
   "source": [
    "# Polymorphism"
   ]
  },
  {
   "cell_type": "code",
   "execution_count": 5,
   "metadata": {},
   "outputs": [
    {
     "name": "stdout",
     "output_type": "stream",
     "text": [
      "Dr. Ahmad merawat pasien di UMC\n",
      "Pak Arif mengajar mahasiswa di kelas\n",
      "Dr. Ahmad bekerja selama 8 jam\n",
      "Pak Arif sedang bekerja\n"
     ]
    }
   ],
   "source": [
    "class seseorang:\n",
    "    def __init__(self, nama):\n",
    "        self.nama = nama\n",
    "\n",
    "    # overloading dengan parameternya opsional\n",
    "    def bekerja(self, jam=None):\n",
    "        if jam:\n",
    "            return f\"{self.nama} bekerja selama {jam} jam\"\n",
    "        else:\n",
    "            return f\"{self.nama} sedang bekerja\"\n",
    "\n",
    "# overriding: masing2 punya jobdesk berbeda\n",
    "class dokter(seseorang):\n",
    "    def pekerjaan(self):\n",
    "        return f\"{self.nama} merawat pasien di UMC\"\n",
    "class dosen(seseorang):\n",
    "    def pekerjaan(self):\n",
    "        return f\"{self.nama} mengajar mahasiswa di kelas\"\n",
    "\n",
    "# objek Dokter dan Dosen\n",
    "dokter1 = dokter(\"Dr. Ahmad\")\n",
    "dosen1 = dosen(\"Pak Arif\")\n",
    "\n",
    "# overriding method pekerjaan() pada subclass\n",
    "print(dokter1.pekerjaan())\n",
    "print(dosen1.pekerjaan())\n",
    "\n",
    "# overloading method bekerja() dengan atau tanpa parameter\n",
    "print(dokter1.bekerja(8))\n",
    "print(dosen1.bekerja())"
   ]
  },
  {
   "cell_type": "markdown",
   "metadata": {},
   "source": [
    "# Abstraction"
   ]
  },
  {
   "cell_type": "code",
   "execution_count": null,
   "metadata": {},
   "outputs": [],
   "source": [
    "from abc import ABC, abstractmethod\n",
    "\n",
    "class hewan(ABC):# class abstrak\n",
    "    # method abstrak\n",
    "    @abstractmethod\n",
    "    def suara(self):\n",
    "        pass\n",
    "\n",
    "# subclass Kucing\n",
    "class kucing(Hewan):\n",
    "    def suara(self):\n",
    "        return \"Meong\"\n",
    "\n",
    "# subclass anjing\n",
    "class anjing(Hewan):\n",
    "    def suara(self):\n",
    "        return \"Pinjam dulu seratus\"\n",
    "\n",
    "anjing1 = anjing()\n",
    "kucing1 = kucing()\n",
    "\n",
    "print(anjing1.suara())\n",
    "print(kucing1.suara())\n"
   ]
  }
 ],
 "metadata": {
  "kernelspec": {
   "display_name": "Python 3",
   "language": "python",
   "name": "python3"
  },
  "language_info": {
   "codemirror_mode": {
    "name": "ipython",
    "version": 3
   },
   "file_extension": ".py",
   "mimetype": "text/x-python",
   "name": "python",
   "nbconvert_exporter": "python",
   "pygments_lexer": "ipython3",
   "version": "3.12.1"
  }
 },
 "nbformat": 4,
 "nbformat_minor": 2
}

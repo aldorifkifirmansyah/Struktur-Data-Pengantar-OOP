{
 "cells": [
  {
   "cell_type": "markdown",
   "metadata": {},
   "source": [
    "# Class Object Constructor Method"
   ]
  },
  {
   "cell_type": "code",
   "execution_count": null,
   "metadata": {},
   "outputs": [],
   "source": [
    "class Kendaraan: # ini class\n",
    "    # konstruktor\n",
    "    def __init__(self, merk, warna):\n",
    "        self.merk = merk\n",
    "        self.warna = warna\n",
    "    # method\n",
    "    def deskripsi(self):\n",
    "        return f\"kendaraan ini bermerk {self.merk} dan berwarna {self.warna}\"\n",
    "\n",
    "# objek dari class Kendaraan\n",
    "mobil = Kendaraan(\"Toyota\", \"Merah\")\n",
    "motor = Kendaraan(\"Aprilia\", \"Hitam\")\n",
    "\n",
    "print(mobil.merk)\n",
    "print(motor.warna)\n",
    "print(mobil.deskripsi())\n",
    "print(motor.deskripsi())\n"
   ]
  },
  {
   "cell_type": "markdown",
   "metadata": {},
   "source": [
    "# Encapsuliation"
   ]
  },
  {
   "cell_type": "code",
   "execution_count": null,
   "metadata": {},
   "outputs": [],
   "source": [
    "class Kendaraan:\n",
    "    def __init__(self, merk, warna):\n",
    "        self.__merk = merk  # double underscore menandakan private\n",
    "        self.warna = warna\n",
    "\n",
    "    def get_merk(self):\n",
    "        return self.__merk\n",
    "\n",
    "mobil1 = Kendaraan(\"Toyota\", \"Merah\")\n",
    "\n",
    "print(mobil1.get_merk())\n",
    "# print(mobil1.merk)\n"
   ]
  },
  {
   "cell_type": "markdown",
   "metadata": {},
   "source": [
    "# Inheritance"
   ]
  },
  {
   "cell_type": "code",
   "execution_count": null,
   "metadata": {},
   "outputs": [],
   "source": [
    "class Kendaraan: # ini superclass\n",
    "    def __init__(self, merk, warna):\n",
    "        self.merk = merk\n",
    "        self.warna = warna\n",
    "\n",
    "    def deskripsi(self):\n",
    "        return f\"Kendaraan ini bermerk {self.merk}, berwarna {self.warna}, dan rodanya berjumlah {self.roda}\"\n",
    "\n",
    "class Mobil(Kendaraan): # ini subclass\n",
    "    def __init__(self, merk, warna, roda):\n",
    "        super().__init__(merk, warna)  # memanggil constructor superclass\n",
    "        self.roda = roda\n",
    "\n",
    "# membuat objek dari subclass\n",
    "mobil = Mobil(\"Ferrari\", \"Merah\", 4)\n",
    "\n",
    "print(mobil.deskripsi())"
   ]
  },
  {
   "cell_type": "markdown",
   "metadata": {},
   "source": [
    "# Polymorphism"
   ]
  },
  {
   "cell_type": "code",
   "execution_count": null,
   "metadata": {},
   "outputs": [],
   "source": [
    "class Kendaraan: # ini superclass\n",
    "    def __init__(self, merk, warna):\n",
    "        self.merk = merk\n",
    "        self.warna = warna\n",
    "\n",
    "    def deskripsi(self):\n",
    "        return f\"Kendaraan ini bermerk {self.merk}, berwarna {self.warna}, dan rodanya berjumlah {self.roda}\"\n",
    "\n",
    "class Mobil(Kendaraan): # ini subclass\n",
    "    def __init__(self, merk, warna, roda):\n",
    "        super().__init__(merk, warna)  # memanggil constructor superclass\n",
    "        self.roda = roda\n",
    "class Motor(Kendaraan): # ini subclass\n",
    "    def __init__(self, merk, warna, roda):\n",
    "        super().__init__(merk, warna)  # memanggil constructor superclass\n",
    "        self.roda = roda\n",
    "\n",
    "# membuat objek dari subclass\n",
    "mobil = Mobil(\"Ferrari\", \"Merah\", 4)\n",
    "motor = Motor(\"Honda\", \"Hitam\", 2)\n",
    "\n",
    "print(mobil.deskripsi())\n",
    "print(motor.deskripsi())"
   ]
  },
  {
   "cell_type": "markdown",
   "metadata": {},
   "source": [
    "# Abstraction"
   ]
  },
  {
   "cell_type": "code",
   "execution_count": null,
   "metadata": {},
   "outputs": [],
   "source": [
    "from abc import ABC, abstractmethod\n",
    "\n",
    "class Hewan(ABC):# class abstrak\n",
    "    # method abstrak\n",
    "    @abstractmethod\n",
    "    def suara(self):\n",
    "        pass\n",
    "\n",
    "# subclass Kucing\n",
    "class Kucing(Hewan):\n",
    "    def suara(self):\n",
    "        return \"Meong\"\n",
    "\n",
    "# subclass anjing\n",
    "class Anjing(Hewan):\n",
    "    def suara(self):\n",
    "        return \"Pinjam dulu seratus\"\n",
    "\n",
    "# Membuat objek dan memanggil metode abstrak\n",
    "anjing = Anjing()\n",
    "kucing = Kucing()\n",
    "\n",
    "print(anjing.suara())\n",
    "print(kucing.suara())\n"
   ]
  }
 ],
 "metadata": {
  "kernelspec": {
   "display_name": "Python 3",
   "language": "python",
   "name": "python3"
  },
  "language_info": {
   "codemirror_mode": {
    "name": "ipython",
    "version": 3
   },
   "file_extension": ".py",
   "mimetype": "text/x-python",
   "name": "python",
   "nbconvert_exporter": "python",
   "pygments_lexer": "ipython3",
   "version": "3.12.1"
  }
 },
 "nbformat": 4,
 "nbformat_minor": 2
}
